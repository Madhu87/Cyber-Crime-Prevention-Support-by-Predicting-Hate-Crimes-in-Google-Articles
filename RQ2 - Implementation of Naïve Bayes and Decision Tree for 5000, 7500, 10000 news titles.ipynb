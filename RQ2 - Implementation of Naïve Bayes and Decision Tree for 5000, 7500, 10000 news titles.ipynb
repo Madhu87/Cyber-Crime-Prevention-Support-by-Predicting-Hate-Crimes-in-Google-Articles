{
 "cells": [
  {
   "cell_type": "markdown",
   "metadata": {},
   "source": [
    "# Importing Required Libraries"
   ]
  },
  {
   "cell_type": "code",
   "execution_count": 1,
   "metadata": {},
   "outputs": [],
   "source": [
    "import numpy as np\n",
    "import pandas as pd\n",
    "import matplotlib.pyplot as plt\n",
    "import sklearn\n",
    "%matplotlib inline\n",
    "import os\n",
    "from sklearn.feature_extraction.text import TfidfVectorizer\n",
    "from sklearn.feature_selection import chi2\n",
    "from sklearn.model_selection import train_test_split\n",
    "from sklearn.tree import DecisionTreeClassifier\n",
    "from sklearn.naive_bayes import GaussianNB\n",
    "from sklearn.metrics import classification_report,confusion_matrix,accuracy_score\n",
    "import seaborn as sns"
   ]
  },
  {
   "cell_type": "markdown",
   "metadata": {},
   "source": [
    "# Preprocessing"
   ]
  },
  {
   "cell_type": "code",
   "execution_count": 2,
   "metadata": {},
   "outputs": [
    {
     "name": "stdout",
     "output_type": "stream",
     "text": [
      "Shape of dataset df :  (13476, 2)\n",
      "\n",
      "Number of Null values present :\n",
      "Article    3\n",
      "Class      0\n",
      "dtype: int64\n",
      "\n",
      "Shape of features:  (13473, 17765)\n",
      "\n",
      "Count Plot\n"
     ]
    },
    {
     "data": {
      "image/png": "[encoded data removed]",
      "text/plain": [
       "<Figure size 432x288 with 1 Axes>"
      ]
     },
     "metadata": {
      "needs_background": "light"
     },
     "output_type": "display_data"
    }
   ],
   "source": [
    "#Reading dataset\n",
    "df = pd.read_excel(\"dataset.xlsx\")\n",
    "\n",
    "print('Shape of dataset df : ',df.shape)\n",
    "print('\\nNumber of Null values present :')\n",
    "print(df.isnull().sum())\n",
    "\n",
    "\n",
    "######################################################################\n",
    "#Hate - 0  and Genuine - 1 \n",
    "\n",
    "Cat = []\n",
    "for i in df.Class:\n",
    "    if i == 'Hate':\n",
    "        Cat.append(0)\n",
    "        \n",
    "    else:\n",
    "        Cat.append(1)\n",
    "        \n",
    "df['Category'] = Cat\n",
    "\n",
    "#Count Plot -- Bar Plot\n",
    "df.groupby('Category').Category.count().plot.bar(ylim=0)\n",
    "\n",
    "#Dropping Null values\n",
    "df.dropna(inplace=True)\n",
    "df.reset_index(inplace= True)\n",
    "\n",
    "#Deleting Index column\n",
    "del df['index']\n",
    "\n",
    "#Vectorization\n",
    "\n",
    "tfidf = TfidfVectorizer(sublinear_tf=True, min_df=5, norm='l2', encoding='latin-1', ngram_range=(1, 2), stop_words='english')\n",
    "features = tfidf.fit_transform(df.Article).toarray()\n",
    "labels = df.Category\n",
    "\n",
    "print('\\nShape of features: ',features.shape)\n",
    "print('\\nCount Plot')"
   ]
  },
  {
   "cell_type": "markdown",
   "metadata": {},
   "source": [
    "# File 2"
   ]
  },
  {
   "cell_type": "code",
   "execution_count": 3,
   "metadata": {},
   "outputs": [
    {
     "name": "stdout",
     "output_type": "stream",
     "text": [
      "Classification report for Decision Tree Algorithm for  5000.000000000089 dataset :\n",
      "               precision    recall  f1-score   support\n",
      "\n",
      "           0       0.98      1.00      0.99      7097\n",
      "           1       0.99      0.90      0.94      1376\n",
      "\n",
      "    accuracy                           0.98      8473\n",
      "   macro avg       0.99      0.95      0.97      8473\n",
      "weighted avg       0.98      0.98      0.98      8473\n",
      "\n",
      "Classification report for Naive Bayes Algorithm for  5000.000000000089 dataset :\n",
      "               precision    recall  f1-score   support\n",
      "\n",
      "           0       1.00      0.92      0.96      7097\n",
      "           1       0.72      1.00      0.83      1376\n",
      "\n",
      "    accuracy                           0.94      8473\n",
      "   macro avg       0.86      0.96      0.90      8473\n",
      "weighted avg       0.95      0.94      0.94      8473\n",
      "\n",
      "AxesSubplot(0.125,0.536818;0.62x0.343182)\n",
      "AxesSubplot(0.125,0.125;0.62x0.343182)\n",
      "Classification report for Decision Tree Algorithm for  7500.0 dataset :\n",
      "               precision    recall  f1-score   support\n",
      "\n",
      "           0       0.98      1.00      0.99      4982\n",
      "           1       0.99      0.90      0.94       991\n",
      "\n",
      "    accuracy                           0.98      5973\n",
      "   macro avg       0.98      0.95      0.96      5973\n",
      "weighted avg       0.98      0.98      0.98      5973\n",
      "\n",
      "Classification report for Naive Bayes Algorithm for  7500.0 dataset :\n",
      "               precision    recall  f1-score   support\n",
      "\n",
      "           0       1.00      0.95      0.97      4982\n",
      "           1       0.79      1.00      0.88       991\n",
      "\n",
      "    accuracy                           0.95      5973\n",
      "   macro avg       0.89      0.97      0.93      5973\n",
      "weighted avg       0.96      0.95      0.96      5973\n",
      "\n",
      "AxesSubplot(0.125,0.536818;0.62x0.343182)\n",
      "AxesSubplot(0.125,0.125;0.62x0.343182)\n",
      "Classification report for Decision Tree Algorithm for  10000.000000000044 dataset :\n",
      "               precision    recall  f1-score   support\n",
      "\n",
      "           0       0.98      1.00      0.99      2894\n",
      "           1       0.98      0.89      0.94       579\n",
      "\n",
      "    accuracy                           0.98      3473\n",
      "   macro avg       0.98      0.95      0.96      3473\n",
      "weighted avg       0.98      0.98      0.98      3473\n",
      "\n",
      "Classification report for Naive Bayes Algorithm for  10000.000000000044 dataset :\n",
      "               precision    recall  f1-score   support\n",
      "\n",
      "           0       1.00      0.98      0.99      2894\n",
      "           1       0.90      1.00      0.95       579\n",
      "\n",
      "    accuracy                           0.98      3473\n",
      "   macro avg       0.95      0.99      0.97      3473\n",
      "weighted avg       0.98      0.98      0.98      3473\n",
      "\n",
      "AxesSubplot(0.125,0.536818;0.62x0.343182)\n",
      "AxesSubplot(0.125,0.125;0.62x0.343182)\n"
     ]
    },
    {
     "data": {
      "text/html": [
       "<div>\n",
       "<style scoped>\n",
       "    .dataframe tbody tr th:only-of-type {\n",
       "        vertical-align: middle;\n",
       "    }\n",
       "\n",
       "    .dataframe tbody tr th {\n",
       "        vertical-align: top;\n",
       "    }\n",
       "\n",
       "    .dataframe thead th {\n",
       "        text-align: right;\n",
       "    }\n",
       "</style>\n",
       "<table border=\"1\" class=\"dataframe\">\n",
       "  <thead>\n",
       "    <tr style=\"text-align: right;\">\n",
       "      <th></th>\n",
       "      <th>Decision Tree</th>\n",
       "      <th>Naive Bayes</th>\n",
       "    </tr>\n",
       "  </thead>\n",
       "  <tbody>\n",
       "    <tr>\n",
       "      <th>5000</th>\n",
       "      <td>98.0</td>\n",
       "      <td>94.0</td>\n",
       "    </tr>\n",
       "    <tr>\n",
       "      <th>7500</th>\n",
       "      <td>98.0</td>\n",
       "      <td>95.0</td>\n",
       "    </tr>\n",
       "    <tr>\n",
       "      <th>10000</th>\n",
       "      <td>98.0</td>\n",
       "      <td>98.0</td>\n",
       "    </tr>\n",
       "  </tbody>\n",
       "</table>\n",
       "</div>"
      ],
      "text/plain": [
       "       Decision Tree  Naive Bayes\n",
       "5000            98.0         94.0\n",
       "7500            98.0         95.0\n",
       "10000           98.0         98.0"
      ]
     },
     "execution_count": 3,
     "metadata": {},
     "output_type": "execute_result"
    },
    {
     "data": {
      "image/png": "[encoded data removed]",
      "text/plain": [
       "<Figure size 432x288 with 4 Axes>"
      ]
     },
     "metadata": {
      "needs_background": "light"
     },
     "output_type": "display_data"
    },
    {
     "data": {
      "image/png": "[encoded data removed]",
      "text/plain": [
       "<Figure size 432x288 with 4 Axes>"
      ]
     },
     "metadata": {
      "needs_background": "light"
     },
     "output_type": "display_data"
    },
    {
     "data": {
      "image/png": "[encoded data removed]",
      "text/plain": [
       "<Figure size 432x288 with 4 Axes>"
      ]
     },
     "metadata": {
      "needs_background": "light"
     },
     "output_type": "display_data"
    }
   ],
   "source": [
    "train = [0.3711125955615,0.55666889334224,0.74222519112299]\n",
    "DT_Accuracy = []\n",
    "NB_Accuracy = []\n",
    "\n",
    "for i in train:\n",
    "    X_train, X_test, y_train, y_test = train_test_split(features, labels, train_size=i, random_state=42)\n",
    "    \n",
    "    ##########################################################################################################################\n",
    "    \n",
    "    #Decison Tree\n",
    "    D_model = DecisionTreeClassifier(random_state=0, max_depth=2)\n",
    "    D_model.fit(X_train,y_train)\n",
    "\n",
    "    y_pred = D_model.predict(X_test)\n",
    "    DT_classification_report = classification_report(y_test,y_pred)\n",
    "    print('Classification report for Decision Tree Algorithm for ',i*13473,'dataset :\\n',DT_classification_report)\n",
    "    DT_Accuracy.append(round(accuracy_score(y_test,y_pred),2)*100)\n",
    "    DT_Conf_Matrix = confusion_matrix(y_test,y_pred)\n",
    "    \n",
    "    ###########################################################################################################################\n",
    "\n",
    "    #Naive Bayes\n",
    "    NB_model = GaussianNB()\n",
    "    NB_model.fit(X_train, y_train)\n",
    "\n",
    "    y_pred = NB_model.predict(X_test)\n",
    "    NB_classification_report = classification_report(y_test,y_pred)\n",
    "    print('Classification report for Naive Bayes Algorithm for ',i*13473,'dataset :\\n',NB_classification_report)\n",
    "    NB_Accuracy.append(round(accuracy_score(y_test,y_pred),2)*100)\n",
    "    NB_Conf_Matrix = confusion_matrix(y_test,y_pred)\n",
    "\n",
    "    ###########################################################################################################################\n",
    "\n",
    "    fig, ax =plt.subplots(2,1)\n",
    "    plot=[DT_Conf_Matrix,NB_Conf_Matrix]\n",
    "\n",
    "    for i,j,k in zip(plot,[0,1],['Decision Tree','Naive Bayes']):\n",
    "        print(sns.heatmap(i, ax=ax[j],annot=True))\n",
    "        \n",
    "Accuracy = pd.DataFrame(index=[5000,7500,10000],columns=['Decision Tree','Naive Bayes'])\n",
    "Accuracy['Decision Tree'] = DT_Accuracy\n",
    "Accuracy['Naive Bayes'] = NB_Accuracy\n",
    "Accuracy"
   ]
  }
 ],
 "metadata": {
  "kernelspec": {
   "display_name": "Python 3",
   "language": "python",
   "name": "python3"
  },
  "language_info": {
   "codemirror_mode": {
    "name": "ipython",
    "version": 3
   },
   "file_extension": ".py",
   "mimetype": "text/x-python",
   "name": "python",
   "nbconvert_exporter": "python",
   "pygments_lexer": "ipython3",
   "version": "3.8.5"
  }
 },
 "nbformat": 4,
 "nbformat_minor": 4
}
