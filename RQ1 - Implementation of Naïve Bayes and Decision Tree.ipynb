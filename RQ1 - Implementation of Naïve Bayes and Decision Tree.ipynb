{
 "cells": [
  {
   "cell_type": "markdown",
   "metadata": {},
   "source": [
    "# Importing Required Libraries"
   ]
  },
  {
   "cell_type": "code",
   "execution_count": 1,
   "metadata": {},
   "outputs": [],
   "source": [
    "import numpy as np\n",
    "import pandas as pd\n",
    "import matplotlib.pyplot as plt\n",
    "import sklearn\n",
    "%matplotlib inline\n",
    "import os\n",
    "from sklearn.feature_extraction.text import TfidfVectorizer\n",
    "from sklearn.feature_selection import chi2\n",
    "from sklearn.model_selection import train_test_split\n",
    "from sklearn.tree import DecisionTreeClassifier\n",
    "from sklearn.naive_bayes import GaussianNB\n",
    "from sklearn.metrics import classification_report,confusion_matrix\n",
    "import seaborn as sns"
   ]
  },
  {
   "cell_type": "markdown",
   "metadata": {},
   "source": [
    "# Preprocessing"
   ]
  },
  {
   "cell_type": "code",
   "execution_count": 2,
   "metadata": {},
   "outputs": [
    {
     "name": "stdout",
     "output_type": "stream",
     "text": [
      "Shape of dataset df :  (13476, 2)\n",
      "\n",
      "Number of Null values present :\n",
      "Article    3\n",
      "Class      0\n",
      "dtype: int64\n",
      "\n",
      "Shape of features:  (13473, 17765)\n",
      "\n",
      "Count Plot\n"
     ]
    },
    {
     "data": {
      "image/png": "[encoded data removed]",
      "text/plain": [
       "<Figure size 432x288 with 1 Axes>"
      ]
     },
     "metadata": {
      "needs_background": "light"
     },
     "output_type": "display_data"
    }
   ],
   "source": [
    "#Reading dataset\n",
    "df = pd.read_excel(\"dataset.xlsx\")\n",
    "\n",
    "print('Shape of dataset df : ',df.shape)\n",
    "print('\\nNumber of Null values present :')\n",
    "print(df.isnull().sum())\n",
    "\n",
    "\n",
    "######################################################################\n",
    "#Hate - 0  and Genuine - 1 \n",
    "\n",
    "Cat = []\n",
    "for i in df.Class:\n",
    "    if i == 'Hate':\n",
    "        Cat.append(0)\n",
    "        \n",
    "    else:\n",
    "        Cat.append(1)\n",
    "        \n",
    "df['Category'] = Cat\n",
    "\n",
    "#Count Plot -- Bar Plot\n",
    "df.groupby('Category').Category.count().plot.bar(ylim=0)\n",
    "\n",
    "#Dropping Null values\n",
    "df.dropna(inplace=True)\n",
    "df.reset_index(inplace= True)\n",
    "\n",
    "#Deleting Index column\n",
    "del df['index']\n",
    "\n",
    "#Vectorization\n",
    "\n",
    "tfidf = TfidfVectorizer(sublinear_tf=True, min_df=5, norm='l2', encoding='latin-1', ngram_range=(1, 2), stop_words='english')\n",
    "features = tfidf.fit_transform(df.Article).toarray()\n",
    "labels = df.Category\n",
    "\n",
    "print('\\nShape of features: ',features.shape)\n",
    "print('\\nCount Plot')"
   ]
  },
  {
   "cell_type": "markdown",
   "metadata": {},
   "source": [
    "# File 1"
   ]
  },
  {
   "cell_type": "code",
   "execution_count": 31,
   "metadata": {},
   "outputs": [
    {
     "name": "stdout",
     "output_type": "stream",
     "text": [
      "Classification report for Decision Tree Algorithm : \n",
      "               precision    recall  f1-score   support\n",
      "\n",
      "           0       0.98      1.00      0.99     10408\n",
      "           1       0.98      0.88      0.93      2055\n",
      "\n",
      "    accuracy                           0.98     12463\n",
      "   macro avg       0.98      0.94      0.96     12463\n",
      "weighted avg       0.98      0.98      0.98     12463\n",
      "\n",
      "Classification report for Naive Bayes Algorithm : \n",
      "               precision    recall  f1-score   support\n",
      "\n",
      "           0       1.00      0.83      0.91     10408\n",
      "           1       0.53      1.00      0.70      2055\n",
      "\n",
      "    accuracy                           0.86     12463\n",
      "   macro avg       0.77      0.91      0.80     12463\n",
      "weighted avg       0.92      0.86      0.87     12463\n",
      "\n",
      "Heat Map for  Decision Tree \n",
      " AxesSubplot(0.125,0.536818;0.62x0.343182)\n",
      "Heat Map for  Naive Bayes \n",
      " AxesSubplot(0.125,0.125;0.62x0.343182)\n"
     ]
    },
    {
     "data": {
      "image/png": "[encoded data removed]",
      "text/plain": [
       "<Figure size 432x288 with 4 Axes>"
      ]
     },
     "metadata": {
      "needs_background": "light"
     },
     "output_type": "display_data"
    }
   ],
   "source": [
    "#for 1000  random dataset\n",
    "X_train, X_test, y_train, y_test = train_test_split(features, labels, train_size=0.075, random_state=42)\n",
    "\n",
    "##########################################################################################################################\n",
    "\n",
    "#Decison Tree\n",
    "D_model = DecisionTreeClassifier(random_state=0, max_depth=2)\n",
    "D_model.fit(X_train,y_train)\n",
    "\n",
    "y_pred = D_model.predict(X_test)\n",
    "DT_classification_report = classification_report(y_test,y_pred)\n",
    "print('Classification report for Decision Tree Algorithm : \\n',DT_classification_report)\n",
    "\n",
    "DT_Conf_Matrix = confusion_matrix(y_test,y_pred)\n",
    "\n",
    "###########################################################################################################################\n",
    "\n",
    "#Naive Bayes\n",
    "\n",
    "NB_model = GaussianNB()\n",
    "NB_model.fit(X_train, y_train)\n",
    "\n",
    "y_pred = NB_model.predict(X_test)\n",
    "NB_classification_report = classification_report(y_test,y_pred)\n",
    "print('Classification report for Naive Bayes Algorithm : \\n',NB_classification_report)\n",
    "NB_Conf_Matrix = confusion_matrix(y_test,y_pred)\n",
    "\n",
    "###########################################################################################################################\n",
    "\n",
    "fig, ax =plt.subplots(2,1)\n",
    "plot=[DT_Conf_Matrix,NB_Conf_Matrix]\n",
    "\n",
    "for i,j,k in zip(plot,[0,1],['Decision Tree','Naive Bayes']):\n",
    "    print('Heat Map for ',k, '\\n',sns.heatmap(i, ax=ax[j],annot=True))"
   ]
  }
 ],
 "metadata": {
  "kernelspec": {
   "display_name": "Python 3",
   "language": "python",
   "name": "python3"
  },
  "language_info": {
   "codemirror_mode": {
    "name": "ipython",
    "version": 3
   },
   "file_extension": ".py",
   "mimetype": "text/x-python",
   "name": "python",
   "nbconvert_exporter": "python",
   "pygments_lexer": "ipython3",
   "version": "3.8.5"
  }
 },
 "nbformat": 4,
 "nbformat_minor": 4
}
