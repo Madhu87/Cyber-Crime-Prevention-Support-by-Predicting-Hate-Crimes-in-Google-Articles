{
 "cells": [
  {
   "cell_type": "markdown",
   "metadata": {},
   "source": [
    "# Importing Required Libraries"
   ]
  },
  {
   "cell_type": "code",
   "execution_count": 1,
   "metadata": {},
   "outputs": [],
   "source": [
    "import numpy as np\n",
    "import pandas as pd\n",
    "import matplotlib.pyplot as plt\n",
    "import sklearn\n",
    "%matplotlib inline\n",
    "import os\n",
    "from sklearn.feature_extraction.text import TfidfVectorizer\n",
    "from sklearn.feature_selection import chi2\n",
    "from sklearn.model_selection import train_test_split\n",
    "from sklearn.tree import DecisionTreeClassifier\n",
    "from sklearn.naive_bayes import GaussianNB\n",
    "from sklearn.metrics import classification_report,confusion_matrix,accuracy_score,roc_auc_score,roc_curve\n",
    "import seaborn as sns"
   ]
  },
  {
   "cell_type": "markdown",
   "metadata": {},
   "source": [
    "# Preprocessing"
   ]
  },
  {
   "cell_type": "code",
   "execution_count": 2,
   "metadata": {
    "scrolled": true
   },
   "outputs": [
    {
     "name": "stdout",
     "output_type": "stream",
     "text": [
      "Shape of dataset df :  (13476, 2)\n",
      "\n",
      "Number of Null values present :\n",
      "Article    3\n",
      "Class      0\n",
      "dtype: int64\n",
      "\n",
      "Shape of features:  (13473, 17765)\n",
      "\n",
      "Count Plot\n"
     ]
    },
    {
     "data": {
      "image/png": "[encoded data removed]",
      "text/plain": [
       "<Figure size 432x288 with 1 Axes>"
      ]
     },
     "metadata": {
      "needs_background": "light"
     },
     "output_type": "display_data"
    }
   ],
   "source": [
    "#Reading dataset\n",
    "df = pd.read_excel(\"dataset.xlsx\")\n",
    "\n",
    "print('Shape of dataset df : ',df.shape)\n",
    "print('\\nNumber of Null values present :')\n",
    "print(df.isnull().sum())\n",
    "\n",
    "\n",
    "######################################################################\n",
    "#Hate - 0  and Genuine - 1 \n",
    "\n",
    "Cat = []\n",
    "for i in df.Class:\n",
    "    if i == 'Hate':\n",
    "        Cat.append(0)\n",
    "        \n",
    "    else:\n",
    "        Cat.append(1)\n",
    "        \n",
    "df['Category'] = Cat\n",
    "\n",
    "#Count Plot -- Bar Plot\n",
    "df.groupby('Category').Category.count().plot.bar(ylim=0)\n",
    "\n",
    "#Dropping Null values\n",
    "df.dropna(inplace=True)\n",
    "df.reset_index(inplace= True)\n",
    "\n",
    "#Deleting Index column\n",
    "del df['index']\n",
    "\n",
    "#Vectorization\n",
    "\n",
    "tfidf = TfidfVectorizer(sublinear_tf=True, min_df=5, norm='l2', encoding='latin-1', ngram_range=(1, 2), stop_words='english')\n",
    "features = tfidf.fit_transform(df.Article).toarray()\n",
    "labels = df.Category\n",
    "\n",
    "print('\\nShape of features: ',features.shape)\n",
    "print('\\nCount Plot')"
   ]
  },
  {
   "cell_type": "markdown",
   "metadata": {},
   "source": [
    "#### Find the best dataset count suitable from RQ2 using evaluation metrics, hypertune parameters both algorithms\n",
    "                    Classification report + Confusion matrix in visual + ROC AUC Curve"
   ]
  },
  {
   "cell_type": "code",
   "execution_count": 3,
   "metadata": {},
   "outputs": [
    {
     "name": "stdout",
     "output_type": "stream",
     "text": [
      "Classification report for Decision Tree Algorithm for 10000 dataset :\n",
      "               precision    recall  f1-score   support\n",
      "\n",
      "           0       0.98      1.00      0.99      2894\n",
      "           1       1.00      0.91      0.95       579\n",
      "\n",
      "    accuracy                           0.99      3473\n",
      "   macro avg       0.99      0.96      0.97      3473\n",
      "weighted avg       0.99      0.99      0.99      3473\n",
      "\n",
      "Classification report for Naive Bayes Algorithm for 10000 dataset :\n",
      "               precision    recall  f1-score   support\n",
      "\n",
      "           0       1.00      0.98      0.99      2894\n",
      "           1       0.90      1.00      0.95       579\n",
      "\n",
      "    accuracy                           0.98      3473\n",
      "   macro avg       0.95      0.99      0.97      3473\n",
      "weighted avg       0.98      0.98      0.98      3473\n",
      "\n",
      "Heat Map for  Decision Tree \n",
      " AxesSubplot(0.125,0.536818;0.62x0.343182)\n",
      "Heat Map for  Naive Bayes \n",
      " AxesSubplot(0.125,0.125;0.62x0.343182)\n",
      "Accuracy comparison\n"
     ]
    },
    {
     "data": {
      "text/html": [
       "<div>\n",
       "<style scoped>\n",
       "    .dataframe tbody tr th:only-of-type {\n",
       "        vertical-align: middle;\n",
       "    }\n",
       "\n",
       "    .dataframe tbody tr th {\n",
       "        vertical-align: top;\n",
       "    }\n",
       "\n",
       "    .dataframe thead th {\n",
       "        text-align: right;\n",
       "    }\n",
       "</style>\n",
       "<table border=\"1\" class=\"dataframe\">\n",
       "  <thead>\n",
       "    <tr style=\"text-align: right;\">\n",
       "      <th></th>\n",
       "      <th>Decision Tree</th>\n",
       "      <th>Naive Bayes</th>\n",
       "    </tr>\n",
       "    <tr>\n",
       "      <th>No. of Observations</th>\n",
       "      <th></th>\n",
       "      <th></th>\n",
       "    </tr>\n",
       "  </thead>\n",
       "  <tbody>\n",
       "    <tr>\n",
       "      <th>10000</th>\n",
       "      <td>99.0</td>\n",
       "      <td>98.0</td>\n",
       "    </tr>\n",
       "  </tbody>\n",
       "</table>\n",
       "</div>"
      ],
      "text/plain": [
       "                     Decision Tree  Naive Bayes\n",
       "No. of Observations                            \n",
       "10000                         99.0         98.0"
      ]
     },
     "execution_count": 3,
     "metadata": {},
     "output_type": "execute_result"
    },
    {
     "data": {
      "image/png": "[encoded data removed]",
      "text/plain": [
       "<Figure size 432x288 with 1 Axes>"
      ]
     },
     "metadata": {
      "needs_background": "light"
     },
     "output_type": "display_data"
    },
    {
     "data": {
      "image/png": "[encoded data removed]",
      "text/plain": [
       "<Figure size 432x288 with 1 Axes>"
      ]
     },
     "metadata": {
      "needs_background": "light"
     },
     "output_type": "display_data"
    },
    {
     "data": {
      "image/png": "[encoded data removed]",
      "text/plain": [
       "<Figure size 432x288 with 4 Axes>"
      ]
     },
     "metadata": {
      "needs_background": "light"
     },
     "output_type": "display_data"
    }
   ],
   "source": [
    "DT_Accuracy = []\n",
    "NB_Accuracy = []\n",
    "\n",
    "i = 0.74222519112299\n",
    "X_train, X_test, y_train, y_test = train_test_split(features, labels, train_size=i, random_state=42)\n",
    "    \n",
    "##########################################################################################################################\n",
    "    \n",
    "#Decison Tree\n",
    "D_model = DecisionTreeClassifier(random_state=0, max_depth=3)\n",
    "D_model.fit(X_train,y_train)\n",
    "\n",
    "y_pred = D_model.predict(X_test)\n",
    "DT_classification_report = classification_report(y_test,y_pred)\n",
    "print('Classification report for Decision Tree Algorithm for 10000 dataset :\\n',DT_classification_report)\n",
    "DT_Accuracy.append(round(accuracy_score(y_test,y_pred),2)*100)\n",
    "DT_Conf_Matrix = confusion_matrix(y_test,y_pred)\n",
    "\n",
    "#ROC_AUC_Curve for Decision Tree\n",
    "logit_roc_auc = roc_auc_score(y_test,y_pred)\n",
    "fpr,tpr,thresholds = roc_curve(y_test,y_pred)\n",
    "plt.figure()\n",
    "plt.plot(fpr,tpr)\n",
    "plt.xlabel('False Positive Rate or (1 - Specifity)')\n",
    "plt.ylabel('True Positive Rate or (Sensitivity)')\n",
    "plt.title('Receiver Operating Characteristic curve for Decision Tree')\n",
    "\n",
    "###########################################################################################################################\n",
    "\n",
    "#Naive Bayes\n",
    "NB_model = GaussianNB()\n",
    "NB_model.fit(X_train, y_train)\n",
    "\n",
    "y_pred = NB_model.predict(X_test)\n",
    "NB_classification_report = classification_report(y_test,y_pred)\n",
    "print('Classification report for Naive Bayes Algorithm for 10000 dataset :\\n',NB_classification_report)\n",
    "NB_Accuracy.append(round(accuracy_score(y_test,y_pred),2)*100)\n",
    "NB_Conf_Matrix = confusion_matrix(y_test,y_pred)\n",
    "\n",
    "#ROC_AUC_Curve for Naive Bayes\n",
    "logit_roc_auc = roc_auc_score(y_test,y_pred)\n",
    "fpr,tpr,thresholds = roc_curve(y_test,y_pred)\n",
    "plt.figure()\n",
    "plt.plot(fpr,tpr)\n",
    "plt.xlabel('False Positive Rate or (1 - Specifity)')\n",
    "plt.ylabel('True Positive Rate or (Sensitivity)')\n",
    "plt.title('Receiver Operating Characteristic curve for Naive Bayes Algorithm')\n",
    "\n",
    "###########################################################################################################################\n",
    "\n",
    "fig, ax =plt.subplots(2,1)\n",
    "plot=[DT_Conf_Matrix,NB_Conf_Matrix]\n",
    "\n",
    "for i,j,k in zip(plot,[0,1],['Decision Tree','Naive Bayes']):\n",
    "    print('Heat Map for ',k, '\\n',sns.heatmap(i, ax=ax[j],annot=True))\n",
    "    \n",
    "print('Accuracy comparison')\n",
    "Accuracy = pd.DataFrame(index=['10000'],columns=['Decision Tree','Naive Bayes'])\n",
    "Accuracy['Decision Tree'] = DT_Accuracy\n",
    "Accuracy['Naive Bayes'] = NB_Accuracy\n",
    "Accuracy.index.name = 'No. of Observations'\n",
    "Accuracy"
   ]
  }
 ],
 "metadata": {
  "kernelspec": {
   "display_name": "Python 3",
   "language": "python",
   "name": "python3"
  },
  "language_info": {
   "codemirror_mode": {
    "name": "ipython",
    "version": 3
   },
   "file_extension": ".py",
   "mimetype": "text/x-python",
   "name": "python",
   "nbconvert_exporter": "python",
   "pygments_lexer": "ipython3",
   "version": "3.8.5"
  }
 },
 "nbformat": 4,
 "nbformat_minor": 4
}
